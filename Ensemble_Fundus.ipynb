{
  "nbformat": 4,
  "nbformat_minor": 0,
  "metadata": {
    "colab": {
      "provenance": [],
      "include_colab_link": true
    },
    "kernelspec": {
      "name": "python3",
      "display_name": "Python 3"
    },
    "language_info": {
      "name": "python"
    }
  },
  "cells": [
    {
      "cell_type": "markdown",
      "metadata": {
        "id": "view-in-github",
        "colab_type": "text"
      },
      "source": [
        "<a href=\"https://colab.research.google.com/github/Arziva/Fundus_Ensemble/blob/main/Ensemble_Fundus.ipynb\" target=\"_parent\"><img src=\"https://colab.research.google.com/assets/colab-badge.svg\" alt=\"Open In Colab\"/></a>"
      ]
    },
    {
      "cell_type": "code",
      "execution_count": null,
      "metadata": {
        "id": "2vUnJXAWm0Zr"
      },
      "outputs": [],
      "source": [
        "import os\n",
        "import numpy as np\n",
        "import cv2\n",
        "import tensorflow as tf\n",
        "\n",
        "from sklearn.model_selection import train_test_split\n",
        "from tensorflow.keras.preprocessing.image import ImageDataGenerator\n",
        "from tensorflow.keras.models import Model\n",
        "from tensorflow.keras.layers import Input, Conv2D, Activation, MaxPooling2D, Flatten, Dense, GlobalAveragePooling2D, Multiply\n",
        "from tensorflow.keras.optimizers import Adam\n",
        "from tensorflow.keras.utils import to_categorical\n",
        "from tensorflow.keras.models import load_model\n",
        "import matplotlib.pyplot as plt\n",
        "import seaborn as sns\n",
        "from sklearn.metrics import confusion_matrix, classification_report"
      ]
    },
    {
      "cell_type": "code",
      "source": [
        "from google.colab import drive\n",
        "\n",
        "# Mount Google Drive\n",
        "drive.mount('/content/drive')\n"
      ],
      "metadata": {
        "colab": {
          "base_uri": "https://localhost:8080/"
        },
        "id": "qvUJmxf7OuAn",
        "outputId": "a7f58ffc-cc14-4f6c-98c6-a88a7f915c5d"
      },
      "execution_count": null,
      "outputs": [
        {
          "output_type": "stream",
          "name": "stdout",
          "text": [
            "Mounted at /content/drive\n"
          ]
        }
      ]
    },
    {
      "cell_type": "code",
      "source": [
        "%cd '/content/drive/MyDrive/RETINA MODELS'"
      ],
      "metadata": {
        "colab": {
          "base_uri": "https://localhost:8080/"
        },
        "id": "2-GJBCOoO-yh",
        "outputId": "df69e15c-7f17-4b43-91d7-9b59308f4490"
      },
      "execution_count": null,
      "outputs": [
        {
          "output_type": "stream",
          "name": "stdout",
          "text": [
            "/content/drive/MyDrive/RETINA MODELS\n"
          ]
        }
      ]
    },
    {
      "cell_type": "markdown",
      "source": [
        "MSAN Model"
      ],
      "metadata": {
        "id": "MsRvvHPhPTuV"
      }
    },
    {
      "cell_type": "code",
      "source": [
        "attention_model = load_model('Copy of FINAL_MSAN.h5')"
      ],
      "metadata": {
        "id": "tTC8KqVDPL8d"
      },
      "execution_count": null,
      "outputs": []
    },
    {
      "cell_type": "code",
      "source": [
        "colab_model_path = '/content/FINAL_MSAN.h5'\n",
        "file_size = os.path.getsize(colab_model_path)\n",
        "print(f\"File size: {file_size} bytes\")"
      ],
      "metadata": {
        "id": "y_H66QFwOH_P"
      },
      "execution_count": null,
      "outputs": []
    },
    {
      "cell_type": "markdown",
      "source": [
        "TL models"
      ],
      "metadata": {
        "id": "vnaG5zsRPYpL"
      }
    },
    {
      "cell_type": "code",
      "source": [
        "transfer_learning_model = load_model('Copy of FINALVGG16_93.00.h5')"
      ],
      "metadata": {
        "id": "aVOjx_lLPdlE"
      },
      "execution_count": null,
      "outputs": []
    },
    {
      "cell_type": "code",
      "source": [
        "transfer_learning_model.summary()"
      ],
      "metadata": {
        "colab": {
          "base_uri": "https://localhost:8080/"
        },
        "id": "nw5Re89jH4dt",
        "outputId": "2ae9717c-2dc9-4e2f-a7eb-2187e2d0902e"
      },
      "execution_count": null,
      "outputs": [
        {
          "output_type": "stream",
          "name": "stdout",
          "text": [
            "Model: \"sequential\"\n",
            "_________________________________________________________________\n",
            " Layer (type)                Output Shape              Param #   \n",
            "=================================================================\n",
            " vgg16 (Functional)          (None, 8, 8, 512)         14714688  \n",
            "                                                                 \n",
            " flatten (Flatten)           (None, 32768)             0         \n",
            "                                                                 \n",
            " dense (Dense)               (None, 256)               8388864   \n",
            "                                                                 \n",
            " dropout (Dropout)           (None, 256)               0         \n",
            "                                                                 \n",
            " dense_1 (Dense)             (None, 3)                 771       \n",
            "                                                                 \n",
            "=================================================================\n",
            "Total params: 23104323 (88.14 MB)\n",
            "Trainable params: 8389635 (32.00 MB)\n",
            "Non-trainable params: 14714688 (56.13 MB)\n",
            "_________________________________________________________________\n"
          ]
        }
      ]
    },
    {
      "cell_type": "code",
      "source": [
        "attention_model.summary()"
      ],
      "metadata": {
        "id": "PboQU2pkH_z5",
        "outputId": "0c7e801c-3909-4426-90cb-d5e0dc0a7557",
        "colab": {
          "base_uri": "https://localhost:8080/"
        }
      },
      "execution_count": null,
      "outputs": [
        {
          "output_type": "stream",
          "name": "stdout",
          "text": [
            "Model: \"model_6\"\n",
            "__________________________________________________________________________________________________\n",
            " Layer (type)                Output Shape                 Param #   Connected to                  \n",
            "==================================================================================================\n",
            " input_7 (InputLayer)        [(None, 256, 256, 3)]        0         []                            \n",
            "                                                                                                  \n",
            " conv2d_30 (Conv2D)          (None, 254, 254, 32)         896       ['input_7[0][0]']             \n",
            "                                                                                                  \n",
            " max_pooling2d_24 (MaxPooli  (None, 127, 127, 32)         0         ['conv2d_30[0][0]']           \n",
            " ng2D)                                                                                            \n",
            "                                                                                                  \n",
            " conv2d_31 (Conv2D)          (None, 125, 125, 64)         18496     ['max_pooling2d_24[0][0]']    \n",
            "                                                                                                  \n",
            " max_pooling2d_25 (MaxPooli  (None, 62, 62, 64)           0         ['conv2d_31[0][0]']           \n",
            " ng2D)                                                                                            \n",
            "                                                                                                  \n",
            " conv2d_32 (Conv2D)          (None, 60, 60, 128)          73856     ['max_pooling2d_25[0][0]']    \n",
            "                                                                                                  \n",
            " max_pooling2d_26 (MaxPooli  (None, 30, 30, 128)          0         ['conv2d_32[0][0]']           \n",
            " ng2D)                                                                                            \n",
            "                                                                                                  \n",
            " conv2d_33 (Conv2D)          (None, 28, 28, 256)          295168    ['max_pooling2d_26[0][0]']    \n",
            "                                                                                                  \n",
            " max_pooling2d_27 (MaxPooli  (None, 14, 14, 256)          0         ['conv2d_33[0][0]']           \n",
            " ng2D)                                                                                            \n",
            "                                                                                                  \n",
            " conv2d_34 (Conv2D)          (None, 12, 12, 512)          1180160   ['max_pooling2d_27[0][0]']    \n",
            "                                                                                                  \n",
            " global_average_pooling2d_1  (None, 512)                  0         ['conv2d_34[0][0]']           \n",
            " 2 (GlobalAveragePooling2D)                                                                       \n",
            "                                                                                                  \n",
            " dense_24 (Dense)            (None, 256)                  131328    ['global_average_pooling2d_12[\n",
            "                                                                    0][0]']                       \n",
            "                                                                                                  \n",
            " activation_12 (Activation)  (None, 256)                  0         ['dense_24[0][0]']            \n",
            "                                                                                                  \n",
            " dense_25 (Dense)            (None, 1)                    257       ['activation_12[0][0]']       \n",
            "                                                                                                  \n",
            " activation_13 (Activation)  (None, 1)                    0         ['dense_25[0][0]']            \n",
            "                                                                                                  \n",
            " flatten_6 (Flatten)         (None, 1)                    0         ['activation_13[0][0]']       \n",
            "                                                                                                  \n",
            " multiply_6 (Multiply)       (None, 12, 12, 512)          0         ['conv2d_34[0][0]',           \n",
            "                                                                     'flatten_6[0][0]']           \n",
            "                                                                                                  \n",
            " global_average_pooling2d_1  (None, 512)                  0         ['multiply_6[0][0]']          \n",
            " 3 (GlobalAveragePooling2D)                                                                       \n",
            "                                                                                                  \n",
            " dense_26 (Dense)            (None, 256)                  131328    ['global_average_pooling2d_13[\n",
            "                                                                    0][0]']                       \n",
            "                                                                                                  \n",
            " dense_27 (Dense)            (None, 3)                    771       ['dense_26[0][0]']            \n",
            "                                                                                                  \n",
            "==================================================================================================\n",
            "Total params: 1832260 (6.99 MB)\n",
            "Trainable params: 1832260 (6.99 MB)\n",
            "Non-trainable params: 0 (0.00 Byte)\n",
            "__________________________________________________________________________________________________\n"
          ]
        }
      ]
    },
    {
      "cell_type": "code",
      "source": [
        "##########################Set the paths to your dataset\n",
        "dataset_path = '/content/drive/MyDrive/Fundus_Sub'\n",
        "dme_path = os.path.join(dataset_path, 'FUNDUS_DME')\n",
        "dr_path = os.path.join(dataset_path, 'FUNDUS_DR')\n",
        "healthy_path = os.path.join(dataset_path, 'FUNDUS_HEALTHY')\n",
        "\n",
        "# Set the image dimensions\n",
        "image_width, image_height = 100,100\n",
        "\n",
        "###############################\n",
        "images = []\n",
        "labels = []\n",
        "\n",
        "for class_path, class_label in [(dme_path, 0), (dr_path, 1), (healthy_path, 2)]:\n",
        "    for image_file in os.listdir(class_path):\n",
        "        image_path = os.path.join(class_path, image_file)\n",
        "        image = cv2.imread(image_path)\n",
        "        image = cv2.resize(image, (image_width, image_height))\n",
        "        images.append(image)\n",
        "        labels.append(class_label)\n",
        "\n",
        "# Convert the data to NumPy arrays\n",
        "images = np.array(images)\n",
        "labels = np.array(labels)\n",
        "\n",
        "# Perform train-test split\n",
        "train_images, test_images, train_labels, test_labels = train_test_split(images, labels, test_size=0.2, random_state=42)\n"
      ],
      "metadata": {
        "id": "BsDl7nqiTcoG"
      },
      "execution_count": null,
      "outputs": []
    },
    {
      "cell_type": "code",
      "source": [
        "test_images_resized = [cv2.resize(image, (256, 256)) for image in test_images]\n"
      ],
      "metadata": {
        "id": "vCjYN6e1byEP"
      },
      "execution_count": null,
      "outputs": []
    },
    {
      "cell_type": "code",
      "source": [
        "from keras.layers import Input\n",
        "\n",
        "# Create a new input layer with the desired shape\n",
        "input_layer = Input(shape=(256, 256, 3))  # Modify the shape as needed\n",
        "\n",
        "# Replace the existing input layer in your models with the new input layer\n",
        "attention_model = Model(inputs=input_layer, outputs=attention_model.layers[-1].output)\n",
        "transfer_learning_model = Model(inputs=input_layer, outputs=transfer_learning_model.layers[-1].output)\n"
      ],
      "metadata": {
        "id": "kMRWuM7mb2O-"
      },
      "execution_count": null,
      "outputs": []
    },
    {
      "cell_type": "code",
      "source": [
        "\n",
        "attention_model_predictions = attention_model.predict(test_images)\n",
        "transfer_learning_predictions = transfer_learning_model.predict(test_images)\n",
        "\n",
        "\n",
        "ensemble_predictions = (attention_model_predictions + transfer_learning_predictions) / 2\n",
        "\n",
        "\n",
        "ensemble_loss, ensemble_accuracy = ensemble_model.evaluate(test_images, test_labels, verbose=2)\n",
        "print(\"Ensemble Test Loss:\", ensemble_loss)\n",
        "print(\"Ensemble Test Accuracy:\", ensemble_accuracy)\n"
      ],
      "metadata": {
        "id": "vjAbO_YVm_fQ"
      },
      "execution_count": null,
      "outputs": []
    },
    {
      "cell_type": "code",
      "source": [
        "predicted_labels = np.argmax(ensemble_predictions, axis=1)\n",
        "true_labels = np.argmax(test_labels, axis=1)\n",
        "\n",
        "\n",
        "cm = confusion_matrix(true_labels, predicted_labels)\n",
        "\n",
        "\n",
        "class_labels = ['DME', 'DR', 'Healthy']\n",
        "\n",
        "#CM\n",
        "plt.figure(figsize=(8, 6))\n",
        "sns.heatmap(cm, annot=True, cmap='Blues', fmt='d', xticklabels=class_labels, yticklabels=class_labels)\n",
        "plt.xlabel('Predicted Labels')\n",
        "plt.ylabel('True Labels')\n",
        "plt.title('Confusion Matrix')\n",
        "plt.show()"
      ],
      "metadata": {
        "id": "p0UeyJ6tnDxP"
      },
      "execution_count": null,
      "outputs": []
    },
    {
      "cell_type": "code",
      "source": [
        "#TT over epochs\n",
        "plt.plot(history.history['accuracy'])\n",
        "plt.plot(history.history['val_accuracy'])\n",
        "plt.title('Model Accuracy')\n",
        "plt.xlabel('Epoch')\n",
        "plt.ylabel('Accuracy')\n",
        "plt.legend(['Train', 'Test'], loc='upper left')\n",
        "plt.show()\n",
        "\n",
        "report = classification_report(true_labels, predicted_labels, target_names=class_labels)\n",
        "print(report)"
      ],
      "metadata": {
        "id": "luolDaZWnHgk"
      },
      "execution_count": null,
      "outputs": []
    }
  ]
}